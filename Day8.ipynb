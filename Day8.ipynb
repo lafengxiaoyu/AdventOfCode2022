{
 "cells": [
  {
   "cell_type": "markdown",
   "id": "ed1ca415",
   "metadata": {},
   "source": [
    "## Part1"
   ]
  },
  {
   "cell_type": "code",
   "execution_count": null,
   "id": "2d4a7b46",
   "metadata": {},
   "outputs": [],
   "source": [
    "f = open(\"./data/day8_input.txt\", \"rt\")\n",
    "\n",
    "lines = f.readlines()\n",
    "f.close() \n",
    "\n",
    "lNotVisible = []\n",
    "\n",
    "for i in range(1, len(lines) - 1):\n",
    "    leftMax = lines[i][0]\n",
    "    rightMax = lines[i][len(lines[i]) - 1]\n",
    "    \n",
    "    for j in range(1, len(lines[i])):\n",
    "        if lines[i][j] > leftMax:\n",
    "            leftMax = lines[i][j]\n",
    "        else:\n",
    "            lNotVisible.append([i,j])\n",
    "    \n",
    "    for j in range(1, len(lines[i])):\n",
    "        if lines[i][len(lines[i]) - 1 - j] > rightMax:\n",
    "            rightMax = lines[i][len(lines[i]) - 1 - j]\n",
    "        else:\n",
    "            lNotVisible.append([i, len(lines[i]) - 1 - j])    "
   ]
  },
  {
   "cell_type": "code",
   "execution_count": null,
   "id": "31bd7112",
   "metadata": {},
   "outputs": [],
   "source": [
    "for i in range(1, len(lines[i]) - 1):\n",
    "    upMax = lines[0][i]\n",
    "    downMax = lines[len(lines) - 1][i]\n",
    "    \n",
    "    for j in range(1, len(lines)):\n",
    "        if lines[j][i] > upMax:\n",
    "            upMax = lines[j][i]\n",
    "            ltmp = [j, i]\n",
    "#             if ltmp in lNotVisible:\n",
    "#                 lNotVisible.remove(ltmp)\n",
    "        else:\n",
    "            lNotVisible.append([j, i])\n",
    "            \n",
    "    for j in range(1, len(lines)):\n",
    "        if lines[len(lines) - 1 - j][i] > downMax:\n",
    "            downMax = lines[len(lines) - 1 - j][i]\n",
    "            ltmp = [len(lines) - 1 - j, i]\n",
    "#             if ltmp in lNotVisible:\n",
    "#                 lNotVisible.remove(ltmp)\n",
    "        else:\n",
    "            lNotVisible.append([len(lines) - 1 - j, i])"
   ]
  },
  {
   "cell_type": "code",
   "execution_count": null,
   "id": "54814637",
   "metadata": {},
   "outputs": [],
   "source": [
    "dict = {}\n",
    "\n",
    "for key in lNotVisible:\n",
    "    s =  ' '.join(str(e) for e in key)\n",
    "    dict[s] = dict.get(s, 0) + 1\n",
    "\n",
    "notV = 0\n",
    "for key in dict.keys():\n",
    "    if dict[key] == 4:\n",
    "        notV += 1\n",
    "\n",
    "print(len(lines) * (len(lines[0]) - 1) - notV)"
   ]
  },
  {
   "cell_type": "markdown",
   "id": "1d9551a0",
   "metadata": {},
   "source": [
    "## Part2"
   ]
  },
  {
   "cell_type": "code",
   "execution_count": null,
   "id": "0f38c464",
   "metadata": {},
   "outputs": [],
   "source": [
    "maxVis = 0\n",
    "for i in range(1, len(lines) - 1):\n",
    "    for j in range(1, len(lines[i]) - 2):\n",
    "        visl = 0\n",
    "        visr = 0\n",
    "        visu = 0\n",
    "        visd = 0\n",
    "        \n",
    "        val = lines[i][j]\n",
    "        for j1 in range(0, j):\n",
    "            visl += 1\n",
    "            if lines[i][j - 1 - j1] >= val:\n",
    "                break\n",
    "        for j2 in range(j + 1, len(lines[i])):\n",
    "            visr += 1\n",
    "            if lines[i][j2] >= val:\n",
    "                break\n",
    "        for i1 in range(0, i):\n",
    "            visu += 1\n",
    "            if lines[i - 1 - i1][j] >= val:\n",
    "                break\n",
    "        for i2 in range(i + 1, len(lines)):\n",
    "            visd += 1\n",
    "            if lines[i2][j] >= val:\n",
    "                break\n",
    "        # print(i, j, lines[i][j], visl , visr , visu , visd)\n",
    "        if maxVis < visl * visr * visu * visd:\n",
    "            maxVis = visl * visr * visu * visd\n",
    "print(maxVis)       "
   ]
  }
 ],
 "metadata": {
  "kernelspec": {
   "display_name": "Python 3 (ipykernel)",
   "language": "python",
   "name": "python3"
  },
  "language_info": {
   "codemirror_mode": {
    "name": "ipython",
    "version": 3
   },
   "file_extension": ".py",
   "mimetype": "text/x-python",
   "name": "python",
   "nbconvert_exporter": "python",
   "pygments_lexer": "ipython3",
   "version": "3.10.2"
  }
 },
 "nbformat": 4,
 "nbformat_minor": 5
}
