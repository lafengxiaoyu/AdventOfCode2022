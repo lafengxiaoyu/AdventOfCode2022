{
 "cells": [
  {
   "cell_type": "markdown",
   "id": "d65b931f",
   "metadata": {},
   "source": [
    "## part1"
   ]
  },
  {
   "cell_type": "code",
   "execution_count": null,
   "id": "154adc5e",
   "metadata": {},
   "outputs": [],
   "source": [
    "f = open(\"./data/day4_input.txt\", \"rt\")\n",
    "\n",
    "lines = f.readlines()\n",
    "f.close() \n",
    "\n",
    "sumPoints = 0;\n",
    "for line in lines:\n",
    "    s1, s2 = line.strip().split(\",\")\n",
    "    start1, end1 = s1.split(\"-\")\n",
    "    start2, end2 = s2.split(\"-\")\n",
    "    start1 = int(start1)\n",
    "    end1 = int(end1)\n",
    "    start2 = int(start2)\n",
    "    end2 = int(end2)\n",
    "    if (start1 < start2 and end1 >= end2) or (start1 > start2 and end1 <= end2) or (start1 == start2):\n",
    "        sumPoints += 1\n",
    "    \n",
    "        \n",
    "print(sumPoints)"
   ]
  },
  {
   "cell_type": "markdown",
   "id": "c9431ee6",
   "metadata": {},
   "source": [
    "## part2"
   ]
  },
  {
   "cell_type": "code",
   "execution_count": null,
   "id": "44a5e9f4",
   "metadata": {},
   "outputs": [],
   "source": [
    "sumPoints = 0;\n",
    "total = 0;\n",
    "\n",
    "for line in lines:\n",
    "    total += 1\n",
    "    s1, s2 = line.strip().split(\",\")\n",
    "    start1, end1 = s1.split(\"-\")\n",
    "    start2, end2 = s2.split(\"-\")\n",
    "    start1 = int(start1)\n",
    "    end1 = int(end1)\n",
    "    start2 = int(start2)\n",
    "    end2 = int(end2)\n",
    "    \n",
    "    if (start1 < start2 and end1 < start2) or (start1 > start2 and end2 < start1):\n",
    "        sumPoints += 1\n",
    "    \n",
    "        \n",
    "print(total - sumPoints)"
   ]
  }
 ],
 "metadata": {
  "kernelspec": {
   "display_name": "Python 3 (ipykernel)",
   "language": "python",
   "name": "python3"
  },
  "language_info": {
   "codemirror_mode": {
    "name": "ipython",
    "version": 3
   },
   "file_extension": ".py",
   "mimetype": "text/x-python",
   "name": "python",
   "nbconvert_exporter": "python",
   "pygments_lexer": "ipython3",
   "version": "3.10.2"
  }
 },
 "nbformat": 4,
 "nbformat_minor": 5
}
