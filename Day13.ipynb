{
 "cells": [
  {
   "cell_type": "markdown",
   "id": "a576b919",
   "metadata": {},
   "source": [
    "## part1"
   ]
  },
  {
   "cell_type": "code",
   "execution_count": null,
   "id": "293d6860",
   "metadata": {
    "scrolled": true
   },
   "outputs": [],
   "source": [
    "import ast\n",
    "import operator\n",
    "\n",
    "f = open(\"./data/day13_input.txt\", \"rt\")\n",
    "lines = f.readlines()\n",
    "f.close() \n",
    "\n",
    "\n",
    "def compare(l1, l2):\n",
    "    l = []\n",
    "    for i in range(min(len(l1), len(l2)) + 1):\n",
    "\n",
    "        if (i < len(l1) and i < len(l2)):\n",
    "            if isinstance(l1[i],list) and isinstance(l2[i],list): \n",
    "                if (len(l1[i]) == 0 and len(l2[i]) == 0):\n",
    "                    l.append(0)\n",
    "                elif (len(l1[i]) == 0):\n",
    "                    l.append(1)\n",
    "                elif (len(l2[i]) == 0):\n",
    "                    l.append(-1)\n",
    "                else:\n",
    "                    l += compare(l1[i], l2[i]) \n",
    "            elif isinstance(l1[i], int) and isinstance(l2[i], list): \n",
    "                l += compare([l1[i]], l2[i])\n",
    "            elif isinstance(l1[i], list) and isinstance(l2[i], int): \n",
    "                l += compare(l1[i], [l2[i]]) \n",
    "            else:\n",
    "                if l1[i] == l2[i]:\n",
    "                    l.append(0)\n",
    "                elif l1[i] > l2[i]:\n",
    "                    l.append(-1)\n",
    "                else:\n",
    "                    l.append(1)\n",
    "        elif (i == len(l1) and i == len(l2)):\n",
    "            l.append(0)\n",
    "        elif (i == len(l2)):\n",
    "            l.append(-1)\n",
    "        elif (i == len(l1)):\n",
    "            l.append(1)\n",
    "\n",
    "    return l\n",
    "\n",
    "def mycmp(l1, l2):\n",
    "    for tf in compare(l1, l2):\n",
    "        if tf == 1:\n",
    "            return 1\n",
    "        elif tf == -1:\n",
    "            return -1\n",
    "\n",
    "            \n",
    "sumP = 0\n",
    "s2 = 1\n",
    "s6 = 2\n",
    "\n",
    "for i in range(int (len(lines) / 3 ) + 1):\n",
    "    left = ast.literal_eval(lines[3 * i].strip())\n",
    "    right = ast.literal_eval(lines[3 * i + 1].strip())\n",
    "    \n",
    "    if mycmp(left, right) == 1:\n",
    "        sumP += i + 1\n",
    "        \n",
    "    if (mycmp(left, [[2]]) == 1):\n",
    "        s2 += 1\n",
    "    if (mycmp(right, [[2]]) == 1):\n",
    "        s2 += 1\n",
    "    if (mycmp(left, [[6]]) == 1):\n",
    "        s6 += 1\n",
    "    if (mycmp(right, [[6]]) == 1):\n",
    "        s6 += 1\n",
    "        \n",
    "print(sumP)"
   ]
  },
  {
   "cell_type": "markdown",
   "id": "c3b8ca92",
   "metadata": {},
   "source": [
    "## part2"
   ]
  },
  {
   "cell_type": "code",
   "execution_count": null,
   "id": "433047d5",
   "metadata": {},
   "outputs": [],
   "source": [
    "print(s2 * s6)"
   ]
  }
 ],
 "metadata": {
  "kernelspec": {
   "display_name": "Python 3 (ipykernel)",
   "language": "python",
   "name": "python3"
  },
  "language_info": {
   "codemirror_mode": {
    "name": "ipython",
    "version": 3
   },
   "file_extension": ".py",
   "mimetype": "text/x-python",
   "name": "python",
   "nbconvert_exporter": "python",
   "pygments_lexer": "ipython3",
   "version": "3.10.2"
  }
 },
 "nbformat": 4,
 "nbformat_minor": 5
}
