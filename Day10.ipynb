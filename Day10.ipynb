{
 "cells": [
  {
   "cell_type": "markdown",
   "id": "a576b919",
   "metadata": {},
   "source": [
    "## part1"
   ]
  },
  {
   "cell_type": "code",
   "execution_count": null,
   "id": "8e6945c6",
   "metadata": {
    "scrolled": false
   },
   "outputs": [],
   "source": [
    "f = open(\"./data/day10_input.txt\", \"rt\")\n",
    "\n",
    "lines = f.readlines()\n",
    "f.close() \n",
    "\n",
    "ii = 1\n",
    "\n",
    "sumR = 0\n",
    "result = 1\n",
    "for i in range(len(lines)):\n",
    "    ii += 1  \n",
    "    if (lines[i].startswith(\"addx\")):\n",
    "        number = int(lines[i].split(\" \")[-1])\n",
    "        if ((ii - 20) % 40 == 0):\n",
    "            sumR += result * ii\n",
    "        ii += 1\n",
    "        result += number\n",
    "\n",
    "    if ((ii - 20) % 40 == 0):\n",
    "        sumR += result * ii\n",
    "        \n",
    "print(sumR)"
   ]
  },
  {
   "cell_type": "markdown",
   "id": "c3b8ca92",
   "metadata": {},
   "source": [
    "## part2"
   ]
  },
  {
   "cell_type": "code",
   "execution_count": null,
   "id": "433047d5",
   "metadata": {},
   "outputs": [],
   "source": [
    "import numpy as np\n",
    "\n",
    "\n",
    "f = open(\"./data/day10_input.txt\", \"rt\")\n",
    "\n",
    "lines = f.readlines()\n",
    "f.close()\n",
    "\n",
    "l = []\n",
    "\n",
    "ii = 0\n",
    "sp = 1\n",
    "row = \"\"\n",
    "for i in range(len(lines)):\n",
    "    if (abs(sp - ii) <= 1):\n",
    "        row += '#'\n",
    "    else:\n",
    "        row += \".\"\n",
    "    \n",
    "    ii += 1\n",
    "        \n",
    "    if (lines[i].startswith(\"addx\")):\n",
    "        number = int(lines[i].split(\" \")[-1])\n",
    "        if (ii % 40 == 0):\n",
    "            l.append(row)\n",
    "            row = \"\"\n",
    "            ii = 0            \n",
    "        if (abs(sp - ii) <= 1):\n",
    "            row += '#'\n",
    "        else:\n",
    "            row += \".\" \n",
    "        ii += 1\n",
    "        sp += number\n",
    "    \n",
    "    if (ii % 40 == 0):\n",
    "        l.append(row)\n",
    "        row = \"\"\n",
    "        ii= 0"
   ]
  },
  {
   "cell_type": "code",
   "execution_count": null,
   "id": "c7324550",
   "metadata": {
    "scrolled": false
   },
   "outputs": [],
   "source": [
    "l"
   ]
  }
 ],
 "metadata": {
  "kernelspec": {
   "display_name": "Python 3 (ipykernel)",
   "language": "python",
   "name": "python3"
  },
  "language_info": {
   "codemirror_mode": {
    "name": "ipython",
    "version": 3
   },
   "file_extension": ".py",
   "mimetype": "text/x-python",
   "name": "python",
   "nbconvert_exporter": "python",
   "pygments_lexer": "ipython3",
   "version": "3.10.2"
  }
 },
 "nbformat": 4,
 "nbformat_minor": 5
}
