{
 "cells": [
  {
   "cell_type": "markdown",
   "id": "a576b919",
   "metadata": {},
   "source": [
    "## part1"
   ]
  },
  {
   "cell_type": "code",
   "execution_count": null,
   "id": "49b13f32",
   "metadata": {},
   "outputs": [],
   "source": [
    "def isValidPos(i, j, n, m):\n",
    " \n",
    "    if (i < 0 or j < 0 or i > n - 1 or j > m - 1):\n",
    "        return 0\n",
    "    return 1\n",
    "\n",
    "# Function that returns all adjacent elements\n",
    "def getAdjacent(arr, i, j):\n",
    " \n",
    "    # Size of given 2d array\n",
    "    n = len(arr)\n",
    "    m = len(arr[0])\n",
    " \n",
    "    # Initialising a vector array\n",
    "    # where adjacent element will be stored\n",
    "    mymap = {}\n",
    " \n",
    "    # Checking for all the possible adjacent positions\n",
    "    if (isValidPos(i - 1, j, n, m)):\n",
    "        mymap[str(i - 1) + \",\" + str(j)] = arr[i - 1][j]\n",
    "    if (isValidPos(i, j - 1, n, m)):\n",
    "        mymap[str(i) + \",\" + str(j - 1)] = arr[i][j - 1]\n",
    "    if (isValidPos(i, j + 1, n, m)):\n",
    "        mymap[str(i) + \",\" + str(j + 1)] = arr[i][j + 1]\n",
    "    if (isValidPos(i + 1, j, n, m)):\n",
    "        mymap[str(i + 1) + \",\" + str(j)] = arr[i + 1][j]\n",
    " \n",
    "    # Returning the vector\n",
    "    return mymap"
   ]
  },
  {
   "cell_type": "code",
   "execution_count": null,
   "id": "293d6860",
   "metadata": {},
   "outputs": [],
   "source": [
    "import networkx as nx\n",
    "import numpy as np\n",
    "\n",
    "f = open(\"./data/day12_input.txt\", \"rt\")\n",
    "lines = f.readlines()\n",
    "f.close() \n",
    "\n",
    "array = np.empty([len(lines),len(lines[0]) - 1], dtype = \"str\") \n",
    "for i in range(len(lines)):\n",
    "    for j in range(len(lines[0]) - 1):\n",
    "        array[i][j] = lines[i].strip()[j]\n",
    "        \n",
    "G=nx.DiGraph()\n",
    "for i in range(0, len(lines)):\n",
    "    for j in range(0, len(lines[0]) - 1):\n",
    "        G.add_node(str(i) + \",\" + str(j))\n",
    "        if (array[i][j] == 'S'):\n",
    "            start = str(i) + \",\" + str(j)\n",
    "        elif (array[i][j] == 'E'):\n",
    "            end = str(i) + \",\" + str(j)\n",
    "        \n",
    "for i in range(len(lines)):\n",
    "    for j in range(len(lines[0]) - 1):\n",
    "        thisNode = str(i) + \",\" + str(j)\n",
    "        if (array[i][j] == 'S'):\n",
    "            mymap = getAdjacent(array, i, j)\n",
    "            for node, value in mymap.items():\n",
    "                if value == 'a':\n",
    "                    G.add_edge(thisNode, node)\n",
    "        elif (array[i][j] == 'z'):\n",
    "            mymap = getAdjacent(array, i, j)\n",
    "            for node, value in mymap.items():\n",
    "                if value <= 'z':\n",
    "                    G.add_edge(thisNode, node)\n",
    "        elif (array[i][j] != 'E'):\n",
    "            cHigh = chr(ord(array[i][j]) + 1)\n",
    "            mymap = getAdjacent(array, i, j)\n",
    "            for node, value in mymap.items():\n",
    "                if (value <= cHigh and value != 'E'):\n",
    "                    G.add_edge(thisNode, node)\n",
    "                    \n",
    "                \n",
    "# nx.draw(G,with_labels=True)\n",
    "# plt.axis('on')\n",
    "# plt.xticks([])\n",
    "# plt.yticks([])\n",
    "# plt.show() \n",
    "\n",
    "\n",
    "print (nx.shortest_path_length(G, start, end))"
   ]
  },
  {
   "cell_type": "markdown",
   "id": "c3b8ca92",
   "metadata": {},
   "source": [
    "## part2"
   ]
  },
  {
   "cell_type": "code",
   "execution_count": null,
   "id": "433047d5",
   "metadata": {},
   "outputs": [],
   "source": [
    "startl = []\n",
    "for i in range(0, len(lines)):\n",
    "    for j in range(0, len(lines[0]) - 1):\n",
    "        G.add_node(str(i) + \",\" + str(j))\n",
    "        if (array[i][j] == 'S' or array[i][j] == 'a'):\n",
    "            startl.append(str(i) + \",\" + str(j))\n",
    "        elif (array[i][j] == 'E'):\n",
    "            end = str(i) + \",\" + str(j)\n",
    "\n",
    "minL = nx.shortest_path_length(G, start, end)\n",
    "for node in startl:\n",
    "    if nx.has_path(G, node, end):\n",
    "        minL = min(minL, nx.shortest_path_length(G, node, end))\n",
    "print(minL)"
   ]
  }
 ],
 "metadata": {
  "kernelspec": {
   "display_name": "Python 3 (ipykernel)",
   "language": "python",
   "name": "python3"
  },
  "language_info": {
   "codemirror_mode": {
    "name": "ipython",
    "version": 3
   },
   "file_extension": ".py",
   "mimetype": "text/x-python",
   "name": "python",
   "nbconvert_exporter": "python",
   "pygments_lexer": "ipython3",
   "version": "3.10.2"
  }
 },
 "nbformat": 4,
 "nbformat_minor": 5
}
