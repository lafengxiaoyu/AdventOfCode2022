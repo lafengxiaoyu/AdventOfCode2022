{
 "cells": [
  {
   "cell_type": "markdown",
   "id": "55410d15",
   "metadata": {},
   "source": [
    "## part1"
   ]
  },
  {
   "cell_type": "code",
   "execution_count": null,
   "id": "88df3b26",
   "metadata": {},
   "outputs": [],
   "source": [
    "f = open(\"./data/day6_input.txt\", \"rt\")\n",
    "\n",
    "lines = f.readlines()\n",
    "f.close() \n",
    "\n",
    "sumPoints = 0;\n",
    "for line in lines:\n",
    "    ll = line.strip()\n",
    "    for i in range(len(ll) - 3):\n",
    "        if len(set(ll[i: i + 4])) == 4:\n",
    "            print(substring, i)\n",
    "            break;"
   ]
  },
  {
   "cell_type": "markdown",
   "id": "230ee5f1",
   "metadata": {},
   "source": [
    "## part2"
   ]
  },
  {
   "cell_type": "code",
   "execution_count": null,
   "id": "b6b11758",
   "metadata": {},
   "outputs": [],
   "source": [
    "f = open(\"./data/day6_input.txt\", \"rt\")\n",
    "\n",
    "lines = f.readlines()\n",
    "f.close() \n",
    "\n",
    "sumPoints = 0;\n",
    "for line in lines:\n",
    "    ll = line.strip()\n",
    "    for i in range(len(ll) - 13):\n",
    "        if len(set(ll[i: i + 14])) == 14:\n",
    "            print(substring, i + 14)\n",
    "            break;"
   ]
  }
 ],
 "metadata": {
  "kernelspec": {
   "display_name": "Python 3 (ipykernel)",
   "language": "python",
   "name": "python3"
  },
  "language_info": {
   "codemirror_mode": {
    "name": "ipython",
    "version": 3
   },
   "file_extension": ".py",
   "mimetype": "text/x-python",
   "name": "python",
   "nbconvert_exporter": "python",
   "pygments_lexer": "ipython3",
   "version": "3.10.2"
  }
 },
 "nbformat": 4,
 "nbformat_minor": 5
}
