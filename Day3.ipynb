{
 "cells": [
  {
   "cell_type": "markdown",
   "id": "d65b931f",
   "metadata": {},
   "source": [
    "## part1"
   ]
  },
  {
   "cell_type": "code",
   "execution_count": null,
   "id": "154adc5e",
   "metadata": {},
   "outputs": [],
   "source": [
    "f = open(\"./data/day3_input.txt\", \"rt\")\n",
    "\n",
    "lines = f.readlines()\n",
    "f.close() \n",
    "\n",
    "sumPoints = 0;\n",
    "for line in lines:\n",
    "    s = line.strip()\n",
    "    for ch in s[0: int(len(s)/2)]:\n",
    "        if (s[int(len(s)/2):len(s)].find(ch) != -1):\n",
    "            sumPoints += ord(ch) - ord('A') + 27 if ch.isupper() else ord(ch) - ord('a') + 1\n",
    "            break;\n",
    "            print(ch, sumPoints)\n",
    "        \n",
    "print(sumPoints)"
   ]
  },
  {
   "cell_type": "markdown",
   "id": "c9431ee6",
   "metadata": {},
   "source": [
    "## part2"
   ]
  },
  {
   "cell_type": "code",
   "execution_count": null,
   "id": "44a5e9f4",
   "metadata": {},
   "outputs": [],
   "source": [
    "sumPoints = 0;\n",
    "for i in range(int (len(lines) / 3)):\n",
    "    s1 = lines[i * 3 + 1]\n",
    "    s2 = lines[i * 3 + 2]\n",
    "    for ch in lines[i * 3].strip():\n",
    "         if (s1.find(ch) != -1 and s2.find(ch) != -1):\n",
    "            sumPoints += ord(ch) - ord('A') + 27 if ch.isupper() else ord(ch) - ord('a') + 1\n",
    "            break;\n",
    "            print(ch, sumPoints)\n",
    "        \n",
    "        \n",
    "print(sumPoints)"
   ]
  }
 ],
 "metadata": {
  "kernelspec": {
   "display_name": "Python 3 (ipykernel)",
   "language": "python",
   "name": "python3"
  },
  "language_info": {
   "codemirror_mode": {
    "name": "ipython",
    "version": 3
   },
   "file_extension": ".py",
   "mimetype": "text/x-python",
   "name": "python",
   "nbconvert_exporter": "python",
   "pygments_lexer": "ipython3",
   "version": "3.10.2"
  }
 },
 "nbformat": 4,
 "nbformat_minor": 5
}
