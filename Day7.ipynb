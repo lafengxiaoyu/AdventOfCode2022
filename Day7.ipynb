{
 "cells": [
  {
   "cell_type": "markdown",
   "id": "ed1ca415",
   "metadata": {},
   "source": [
    "## Part1"
   ]
  },
  {
   "cell_type": "code",
   "execution_count": null,
   "id": "2d4a7b46",
   "metadata": {},
   "outputs": [],
   "source": [
    "f = open(\"./data/day7_input.txt\", \"rt\")\n",
    "\n",
    "lines = f.readlines()\n",
    "f.close() \n",
    "\n",
    "mydict = {}\n",
    "path = \"/\"\n",
    "\n",
    "for i in range(len(lines)):\n",
    "    if (lines[i].startswith('$ ls')):    \n",
    "        keyPath = path[0:-1]\n",
    "        mydict[keyPath] = []\n",
    "        lineLs = i + 1\n",
    "        while (lineLs < len(lines) and lines[lineLs].startswith(\"$\") is False):\n",
    "            if (lines[lineLs].startswith(\"dir\")):\n",
    "                mydict[keyPath].append(path + lines[lineLs].split()[-1])\n",
    "            else:\n",
    "                mydict[keyPath].append(lines[lineLs].split()[0])\n",
    "                \n",
    "            lineLs += 1\n",
    "        i = lineLs\n",
    "    elif (lines[i].startswith('$ cd ..')):\n",
    "        path = '/'.join(path.split('/')[0: -2]).strip() + '/'\n",
    "        if (path == ''):\n",
    "            path = '/'\n",
    "        \n",
    "    elif (lines[i].startswith('$ cd ')):\n",
    "#         print(lines[i], path, lines[i].split()[-1].endswith('/'))\n",
    "        if (lines[i].split()[-1].endswith('/') is False):\n",
    "            path += lines[i].split()[-1] + \"/\""
   ]
  },
  {
   "cell_type": "code",
   "execution_count": null,
   "id": "8a1891d0",
   "metadata": {
    "scrolled": false
   },
   "outputs": [],
   "source": [
    "sizeDic = {}\n",
    "\n",
    "while (True):\n",
    "    for key in mydict.keys():\n",
    "        if (sizeDic.get(key) == None):\n",
    "            sumTmp = 0\n",
    "            onlyDigit = True\n",
    "            for s in mydict[key]:\n",
    "                if (s.isdigit()):\n",
    "                    sumTmp += int(s)\n",
    "                elif sizeDic.get(s) != None:\n",
    "                    sumTmp += sizeDic[s]\n",
    "                else:\n",
    "                    onlyDigit = False\n",
    "                    break\n",
    "\n",
    "            if onlyDigit:\n",
    "                sizeDic[key] = sumTmp\n",
    "    \n",
    "    if len(sizeDic) == len(mydict):\n",
    "        break"
   ]
  },
  {
   "cell_type": "code",
   "execution_count": null,
   "id": "3b888427",
   "metadata": {},
   "outputs": [],
   "source": [
    "sumPoint = 0\n",
    "for key in sizeDic.keys():\n",
    "    if (sizeDic[key] <= 100000):\n",
    "        sumPoint += sizeDic[key]\n",
    "print(sumPoint)"
   ]
  },
  {
   "cell_type": "markdown",
   "id": "1d9551a0",
   "metadata": {},
   "source": [
    "## Part2"
   ]
  },
  {
   "cell_type": "code",
   "execution_count": null,
   "id": "0f38c464",
   "metadata": {},
   "outputs": [],
   "source": [
    "unused = 70000000 - sizeDic['']\n",
    "    \n",
    "need = 30000000 - unused\n",
    "minD = 70000000\n",
    "for key in sizeDic.keys():\n",
    "    if (sizeDic[key] > need and sizeDic[key] < minD):\n",
    "        minD = sizeDic[key]\n",
    "print(minD)"
   ]
  }
 ],
 "metadata": {
  "kernelspec": {
   "display_name": "Python 3 (ipykernel)",
   "language": "python",
   "name": "python3"
  },
  "language_info": {
   "codemirror_mode": {
    "name": "ipython",
    "version": 3
   },
   "file_extension": ".py",
   "mimetype": "text/x-python",
   "name": "python",
   "nbconvert_exporter": "python",
   "pygments_lexer": "ipython3",
   "version": "3.10.2"
  }
 },
 "nbformat": 4,
 "nbformat_minor": 5
}
