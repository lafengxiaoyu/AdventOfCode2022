{
 "cells": [
  {
   "cell_type": "markdown",
   "id": "a576b919",
   "metadata": {},
   "source": [
    "## part1"
   ]
  },
  {
   "cell_type": "code",
   "execution_count": null,
   "id": "293d6860",
   "metadata": {
    "scrolled": true
   },
   "outputs": [],
   "source": [
    "import numpy as np\n",
    "\n",
    "f = open(\"./data/day14_input.txt\", \"rt\")\n",
    "lines = f.readlines()\n",
    "f.close()\n",
    "\n",
    "# get the size\n",
    "minY = 500\n",
    "maxY = 500\n",
    "maxX = 0\n",
    "for line in lines:\n",
    "    lrow = []\n",
    "    for coor in line.strip().split(\"->\"):\n",
    "        x, y = map(int,coor.split(\",\"))\n",
    "        if x < minY:\n",
    "            minY = x\n",
    "        if x > maxY:\n",
    "            maxY = x\n",
    "        if y > maxX:\n",
    "            maxX = y\n",
    "            \n",
    "\n",
    "l = []\n",
    "for i in range(maxX + 1):\n",
    "    ll = []\n",
    "    for j in range(maxY - minY + 2):\n",
    "        ll.append(\".\")\n",
    "    l.append(ll)\n",
    "\n",
    "ll = np.array(l, dtype=str)\n",
    "\n",
    "# plot the structure\n",
    "for line in lines:\n",
    "    lrow = []\n",
    "    for coor in line.strip().split(\"->\"):\n",
    "        x, y = map(int,coor.split(\",\"))\n",
    "        lrow.append([x,y])\n",
    "    for i in range(1, len(lrow)):\n",
    "        if (lrow[i][0] == lrow[i - 1][0]):\n",
    "            x1, x2 = lrow[i - 1][1], lrow[i][1]\n",
    "            if (x1 > x2):\n",
    "                x1, x2 = x2, x1\n",
    "            for x in range(x1, x2 + 1):\n",
    "                ll[x][lrow[i][0] - minY] = \"#\"\n",
    "        else:\n",
    "            y1, y2 = lrow[i - 1][0], lrow[i][0]\n",
    "            if (y1 > y2):\n",
    "                y1, y2 = y2, y1\n",
    "            for y in range(y1, y2 + 1):\n",
    "                ll[lrow[i][1]][y - minY] = \"#\"\n"
   ]
  },
  {
   "cell_type": "code",
   "execution_count": null,
   "id": "554743ca",
   "metadata": {},
   "outputs": [],
   "source": [
    "def get(ll):\n",
    "    o = 0\n",
    "    yout = 500 - minY\n",
    "    while True:\n",
    "        x = 0\n",
    "        y = yout\n",
    "        while True:\n",
    "            if (x == maxX):\n",
    "                return o\n",
    "            elif (ll[x + 1][y] == '.'):\n",
    "                x += 1 \n",
    "            elif (ll[x + 1][y - 1] == '.'):\n",
    "                x += 1\n",
    "                y -= 1\n",
    "\n",
    "            elif (ll[x + 1][y + 1] == '.'):\n",
    "                x += 1\n",
    "                y += 1\n",
    "            else:\n",
    "                ll[x][y] = 'o'\n",
    "                o += 1\n",
    "                break\n",
    "#             print(x,y)\n",
    "#         print(ll)\n",
    "    "
   ]
  },
  {
   "cell_type": "code",
   "execution_count": null,
   "id": "9ef1f10b",
   "metadata": {
    "scrolled": true
   },
   "outputs": [],
   "source": [
    "get(ll)"
   ]
  },
  {
   "cell_type": "markdown",
   "id": "c3b8ca92",
   "metadata": {},
   "source": [
    "## part2"
   ]
  },
  {
   "cell_type": "code",
   "execution_count": null,
   "id": "433047d5",
   "metadata": {
    "scrolled": true
   },
   "outputs": [],
   "source": [
    "f = open(\"./data/day14_input.txt\", \"rt\")\n",
    "lines = f.readlines()\n",
    "f.close()\n",
    "\n",
    "# get the size\n",
    "minY = 400\n",
    "maxY = 700\n",
    "maxX = 0\n",
    "for line in lines:\n",
    "    lrow = []\n",
    "    for coor in line.strip().split(\"->\"):\n",
    "        x, y = map(int,coor.split(\",\"))\n",
    "        if y > maxX:\n",
    "            maxX = y\n",
    "            \n",
    "addLayer = 3\n",
    "l = []\n",
    "for i in range(maxX + addLayer):\n",
    "    ll = []\n",
    "    for j in range(maxY - minY + 50):\n",
    "        if (i != maxX + addLayer - 1):\n",
    "            ll.append(\".\")\n",
    "        else:\n",
    "            ll.append(\"#\")\n",
    "    l.append(ll)\n",
    "\n",
    "ll = np.array(l, dtype=str)\n",
    "\n",
    "# plot the structure\n",
    "for line in lines:\n",
    "    lrow = []\n",
    "    for coor in line.strip().split(\"->\"):\n",
    "        x, y = map(int,coor.split(\",\"))\n",
    "        lrow.append([x,y])\n",
    "    for i in range(1, len(lrow)):\n",
    "        if (lrow[i][0] == lrow[i - 1][0]):\n",
    "            x1, x2 = lrow[i - 1][1], lrow[i][1]\n",
    "            if (x1 > x2):\n",
    "                x1, x2 = x2, x1\n",
    "            for x in range(x1, x2 + 1):\n",
    "                ll[x][lrow[i][0] - minY] = \"#\"\n",
    "        else:\n",
    "            y1, y2 = lrow[i - 1][0], lrow[i][0]\n",
    "            if (y1 > y2):\n",
    "                y1, y2 = y2, y1\n",
    "            for y in range(y1, y2 + 1):\n",
    "                ll[lrow[i][1]][y - minY] = \"#\"\n"
   ]
  },
  {
   "cell_type": "code",
   "execution_count": null,
   "id": "d9aee9e4",
   "metadata": {},
   "outputs": [],
   "source": [
    "def get(ll):\n",
    "    o = 0\n",
    "    yout = 500 - minY\n",
    "    while True:\n",
    "        x = 0\n",
    "        y = yout\n",
    "        while True:\n",
    "            if (x == maxX + addLayer):\n",
    "                if (ll[1][x] == 'o'):\n",
    "                    return True\n",
    "                else:\n",
    "                    return False\n",
    "            elif (ll[x + 1][y] == '.'):\n",
    "                x += 1 \n",
    "            elif (ll[x + 1][y - 1] == '.'):\n",
    "                x += 1\n",
    "                y -= 1\n",
    "\n",
    "            elif (ll[x + 1][y + 1] == '.'):\n",
    "                x += 1\n",
    "                y += 1\n",
    "            else:\n",
    "                ll[x][y] = 'o'\n",
    "                \n",
    "                o += 1\n",
    "                if (x == 0):\n",
    "                    return [x,y, o, True]\n",
    "                break\n",
    "#         print(x,y)\n",
    "#         for lll in ll:\n",
    "#             print(' '.join(lll))"
   ]
  },
  {
   "cell_type": "code",
   "execution_count": null,
   "id": "b2a97886",
   "metadata": {
    "scrolled": false
   },
   "outputs": [],
   "source": [
    "get(ll)"
   ]
  }
 ],
 "metadata": {
  "kernelspec": {
   "display_name": "Python 3 (ipykernel)",
   "language": "python",
   "name": "python3"
  },
  "language_info": {
   "codemirror_mode": {
    "name": "ipython",
    "version": 3
   },
   "file_extension": ".py",
   "mimetype": "text/x-python",
   "name": "python",
   "nbconvert_exporter": "python",
   "pygments_lexer": "ipython3",
   "version": "3.10.2"
  }
 },
 "nbformat": 4,
 "nbformat_minor": 5
}
