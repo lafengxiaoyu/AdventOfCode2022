{
 "cells": [
  {
   "cell_type": "markdown",
   "id": "cd22f9b3",
   "metadata": {},
   "source": [
    "## part1"
   ]
  },
  {
   "cell_type": "code",
   "execution_count": null,
   "id": "70dae8d8",
   "metadata": {},
   "outputs": [],
   "source": [
    "f = open(\"./data/day2_input.txt\", \"rt\")\n",
    "\n",
    "lines = f.readlines()\n",
    "f.close() \n",
    "\n",
    "sumPoints = 0;\n",
    "\n",
    "for line in lines:\n",
    "    opponent, me = line.strip().split()\n",
    "    \n",
    "    if (me == 'X'):\n",
    "        sumPoints += 1\n",
    "        sumPoints += 6 if opponent == 'C' else 0\n",
    "        sumPoints += 3 if opponent == 'A' else 0\n",
    "    elif (me == 'Y'):\n",
    "        sumPoints += 2\n",
    "        sumPoints += 6 if opponent == 'A' else 0\n",
    "        sumPoints += 3 if opponent == 'B' else 0\n",
    "    else:\n",
    "        sumPoints += 3\n",
    "        sumPoints += 6 if opponent == 'B' else 0\n",
    "        sumPoints += 3 if opponent == 'C' else 0\n",
    "        \n",
    "print(sumPoints)"
   ]
  },
  {
   "cell_type": "markdown",
   "id": "209a66b7",
   "metadata": {},
   "source": [
    "## part2"
   ]
  },
  {
   "cell_type": "code",
   "execution_count": null,
   "id": "9d8526a0",
   "metadata": {},
   "outputs": [],
   "source": [
    "sumPoints = 0;\n",
    "\n",
    "A = ord('A')\n",
    "\n",
    "for line in lines:\n",
    "    opponent, result = line.strip().split()\n",
    "    \n",
    "    if (result == 'X'):\n",
    "        sumPoints += (ord(opponent) - A + 2) % 3 + 1\n",
    "    elif (result == 'Y'):\n",
    "        sumPoints += 3\n",
    "        sumPoints += ord(opponent) - A + 1\n",
    "    else:\n",
    "        sumPoints += 6\n",
    "        sumPoints += (ord(opponent) - A + 1) % 3 + 1\n",
    "            \n",
    "print(sumPoints)"
   ]
  }
 ],
 "metadata": {
  "kernelspec": {
   "display_name": "Python 3 (ipykernel)",
   "language": "python",
   "name": "python3"
  },
  "language_info": {
   "codemirror_mode": {
    "name": "ipython",
    "version": 3
   },
   "file_extension": ".py",
   "mimetype": "text/x-python",
   "name": "python",
   "nbconvert_exporter": "python",
   "pygments_lexer": "ipython3",
   "version": "3.10.2"
  }
 },
 "nbformat": 4,
 "nbformat_minor": 5
}
