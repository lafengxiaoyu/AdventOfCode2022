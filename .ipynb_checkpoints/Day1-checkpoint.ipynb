{
 "cells": [
  {
   "cell_type": "code",
   "execution_count": null,
   "id": "716e78ad",
   "metadata": {},
   "outputs": [],
   "source": [
    "f = open(\"day1_input.txt\", \"rt\")\n",
    "\n",
    "lines = f.readlines()\n",
    "f.close() \n",
    "currentMax = 0\n",
    "currentSum = 0\n",
    "\n",
    "for line in lines:\n",
    "    if (line.strip() == ''):\n",
    "        currentMax = max(currentMax, currentSum)\n",
    "        currentSum = 0\n",
    "    else:\n",
    "        currentSum += int(line.strip())"
   ]
  },
  {
   "cell_type": "code",
   "execution_count": null,
   "id": "b193be49",
   "metadata": {},
   "outputs": [],
   "source": [
    "print(currentSum)"
   ]
  },
  {
   "cell_type": "code",
   "execution_count": null,
   "id": "fd55f48c",
   "metadata": {},
   "outputs": [],
   "source": [
    "currentSum = 0\n",
    "lSum = []\n",
    "for line in lines:\n",
    "    if (line.strip() == ''):\n",
    "        lSum.append(currentSum)\n",
    "        currentSum = 0\n",
    "    else:\n",
    "        currentSum += int(line.strip())"
   ]
  },
  {
   "cell_type": "code",
   "execution_count": null,
   "id": "e9082809",
   "metadata": {},
   "outputs": [],
   "source": [
    "print(sum(sorted(lSum, reverse=True)[:3]))"
   ]
  },
  {
   "cell_type": "code",
   "execution_count": null,
   "id": "94378411",
   "metadata": {},
   "outputs": [],
   "source": []
  }
 ],
 "metadata": {
  "kernelspec": {
   "display_name": "Python 3 (ipykernel)",
   "language": "python",
   "name": "python3"
  },
  "language_info": {
   "codemirror_mode": {
    "name": "ipython",
    "version": 3
   },
   "file_extension": ".py",
   "mimetype": "text/x-python",
   "name": "python",
   "nbconvert_exporter": "python",
   "pygments_lexer": "ipython3",
   "version": "3.10.2"
  }
 },
 "nbformat": 4,
 "nbformat_minor": 5
}
